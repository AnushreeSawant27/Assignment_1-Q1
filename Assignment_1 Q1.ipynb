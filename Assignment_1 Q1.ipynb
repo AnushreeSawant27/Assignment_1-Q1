{
 "cells": [
  {
   "cell_type": "markdown",
   "id": "22d8c0bf",
   "metadata": {},
   "source": [
    "# Write a Python program to get the Fibonacci series between 0 to 50"
   ]
  },
  {
   "cell_type": "code",
   "execution_count": 3,
   "id": "6cc7af45",
   "metadata": {},
   "outputs": [
    {
     "name": "stdout",
     "output_type": "stream",
     "text": [
      "1 1 2 3 5 8 13 21 34 "
     ]
    }
   ],
   "source": [
    "n=50\n",
    "n1, n2 = 0, 1\n",
    "print(n2, end=\" \")\n",
    "for i in range(0, n):\n",
    "    n3 = n1 + n2\n",
    "    if n3 <= n:\n",
    "        print(n3, end=\" \")\n",
    "        n1 = n2\n",
    "        n2 = n3\n",
    "    "
   ]
  },
  {
   "cell_type": "code",
   "execution_count": null,
   "id": "c6b62f60",
   "metadata": {},
   "outputs": [],
   "source": []
  }
 ],
 "metadata": {
  "kernelspec": {
   "display_name": "Python 3 (ipykernel)",
   "language": "python",
   "name": "python3"
  },
  "language_info": {
   "codemirror_mode": {
    "name": "ipython",
    "version": 3
   },
   "file_extension": ".py",
   "mimetype": "text/x-python",
   "name": "python",
   "nbconvert_exporter": "python",
   "pygments_lexer": "ipython3",
   "version": "3.9.12"
  }
 },
 "nbformat": 4,
 "nbformat_minor": 5
}
